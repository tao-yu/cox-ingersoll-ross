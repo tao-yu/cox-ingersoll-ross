{
 "cells": [
  {
   "cell_type": "code",
   "execution_count": 1,
   "metadata": {},
   "outputs": [],
   "source": [
    "import numpy as np\n",
    "import matplotlib.pyplot as plt\n",
    "from utils import MatlabRandn\n",
    "from numpy.random import randn\n",
    "from scipy.optimize import curve_fit\n",
    "import scipy.stats as stats\n",
    "import pylab \n",
    "from IPython.core.debugger import set_trace"
   ]
  },
  {
   "cell_type": "code",
   "execution_count": 72,
   "metadata": {},
   "outputs": [],
   "source": [
    "def brownian_path(T, N):\n",
    "    dt = T/N\n",
    "    dW = np.sqrt(dt)*randn(N)\n",
    "    dW = np.insert(dW, 0, 0)\n",
    "    W = np.cumsum(dW)\n",
    "    t = np.arange(0, T+dt, dt)\n",
    "    return t, W"
   ]
  },
  {
   "cell_type": "code",
   "execution_count": 2,
   "metadata": {},
   "outputs": [],
   "source": [
    "def brownian_paths(T, N, M):\n",
    "    dt = T/N\n",
    "    dW = np.random.normal(0, np.sqrt(dt), size=(M, N))\n",
    "    dW = np.hstack([np.zeros((M, 1)), dW])\n",
    "    W = np.cumsum(dW, axis=1)        \n",
    "    t = np.arange(0, T+dt, dt)\n",
    "    return t, W"
   ]
  },
  {
   "cell_type": "code",
   "execution_count": 73,
   "metadata": {},
   "outputs": [],
   "source": [
    "t, Ws = brownian_paths(1, 1000, 1)"
   ]
  },
  {
   "cell_type": "code",
   "execution_count": null,
   "metadata": {},
   "outputs": [],
   "source": [
    "def solve_em(f, g, X_0, t, W):\n",
    "    X_em = np.zeros(len(W))\n",
    "    X_temp = X_0\n",
    "    X_em[0] = X_0\n",
    "    for j in range(1, len(W)):\n",
    "        W_inc = W[j] - W[j-1]\n",
    "        dt = t[j] - t[j-1]\n",
    "        X_temp = X_temp + dt*f(X_temp) + g(X_temp)*W_inc\n",
    "        X_em[j] = X_temp\n",
    "    return t, X_em"
   ]
  },
  {
   "cell_type": "code",
   "execution_count": 3,
   "metadata": {},
   "outputs": [],
   "source": [
    "def cir_dereich(k, lamda, theta, X_0, t, W):\n",
    "    \n",
    "    alpha = (4*k*lamda - theta**2)/8\n",
    "    beta = -k/2\n",
    "    gamma = theta/2\n",
    "\n",
    "    Y_sol = np.zeros(len(W))\n",
    "    Y_temp = np.sqrt(X_0)\n",
    "    Y_sol[0] = np.sqrt(X_0)\n",
    "    \n",
    "    for k in range(1, len(W)):\n",
    "        W_inc = W[k] - W[k-1]\n",
    "        dt = t[k] - t[k-1]\n",
    "        Y_temp = (Y_temp + gamma*W_inc)/(2*(1-beta*dt)) \\\n",
    "                 + np.sqrt(\n",
    "                     (Y_temp + gamma*W_inc)**2/(4*(1-beta*dt)**2) \\\n",
    "                     + (alpha*dt)/(1-beta*dt)\n",
    "                 )\n",
    "        Y_sol[k] = Y_temp\n",
    "    X_sol = Y_sol**2\n",
    "    return t, X_sol"
   ]
  },
  {
   "cell_type": "code",
   "execution_count": 3,
   "metadata": {},
   "outputs": [],
   "source": [
    "def cir_dereich2(k, lamda, theta, X_0, t, W):\n",
    "    \n",
    "    alpha = (4*k*lamda - theta**2)/8\n",
    "    beta = -k/2\n",
    "    gamma = theta/2\n",
    "\n",
    "    Y_sol = np.zeros(W.shape)\n",
    "    \n",
    "    Y_sol[:,0] = np.sqrt(X_0)\n",
    "    Y_temp = np.repeat(np.sqrt(X_0), W.shape[0])\n",
    "    #set_trace()\n",
    "    for k in range(1, W.shape[1]):\n",
    "        W_inc = W[:,k] - W[:,k-1]\n",
    "        dt = t[k] - t[k-1]\n",
    "        Y_temp = (Y_temp + gamma*W_inc)/(2*(1-beta*dt)) \\\n",
    "                 + np.sqrt(\n",
    "                     (Y_temp + gamma*W_inc)**2/(4*(1-beta*dt)**2) \\\n",
    "                     + (alpha*dt)/(1-beta*dt)\n",
    "                 )\n",
    "        Y_sol[:,k] = Y_temp\n",
    "    X_sol = Y_sol**2\n",
    "    return t, X_sol"
   ]
  },
  {
   "cell_type": "code",
   "execution_count": 25,
   "metadata": {
    "scrolled": true
   },
   "outputs": [
    {
     "data": {
      "text/plain": [
       "[<matplotlib.lines.Line2D at 0x1c24425c940>]"
      ]
     },
     "execution_count": 25,
     "metadata": {},
     "output_type": "execute_result"
    },
    {
     "data": {
      "image/png": "[encoded data removed]",
      "text/plain": [
       "<Figure size 432x288 with 1 Axes>"
      ]
     },
     "metadata": {
      "needs_background": "light"
     },
     "output_type": "display_data"
    }
   ],
   "source": [
    "np.random.seed(0)\n",
    "t, Ws = brownian_paths(1, 100, 3)\n",
    "t_cir, X_cir = cir_dereich2(1, 0.05, 0.05, 0.05, t, Ws)\n",
    "plt.plot(t_cir, X_cir[2])"
   ]
  },
  {
   "cell_type": "code",
   "execution_count": 100,
   "metadata": {},
   "outputs": [
    {
     "data": {
      "text/plain": [
       "array([[0.05, 0.  , 0.  , 0.  , 0.  , 0.  , 0.  , 0.  , 0.  , 0.  , 0.  ,\n",
       "        0.  , 0.  , 0.  , 0.  , 0.  , 0.  , 0.  , 0.  , 0.  , 0.  , 0.  ,\n",
       "        0.  , 0.  , 0.  , 0.  , 0.  , 0.  , 0.  , 0.  , 0.  , 0.  , 0.  ,\n",
       "        0.  , 0.  , 0.  , 0.  , 0.  , 0.  , 0.  , 0.  , 0.  , 0.  , 0.  ,\n",
       "        0.  , 0.  , 0.  , 0.  , 0.  , 0.  , 0.  , 0.  , 0.  , 0.  , 0.  ,\n",
       "        0.  , 0.  , 0.  , 0.  , 0.  , 0.  , 0.  , 0.  , 0.  , 0.  , 0.  ,\n",
       "        0.  , 0.  , 0.  , 0.  , 0.  , 0.  , 0.  , 0.  , 0.  , 0.  , 0.  ,\n",
       "        0.  , 0.  , 0.  , 0.  , 0.  , 0.  , 0.  , 0.  , 0.  , 0.  , 0.  ,\n",
       "        0.  , 0.  , 0.  , 0.  , 0.  , 0.  , 0.  , 0.  , 0.  , 0.  , 0.  ,\n",
       "        0.  , 0.  ]])"
      ]
     },
     "execution_count": 100,
     "metadata": {},
     "output_type": "execute_result"
    }
   ],
   "source": [
    "X_cir"
   ]
  },
  {
   "cell_type": "code",
   "execution_count": 90,
   "metadata": {},
   "outputs": [
    {
     "data": {
      "text/plain": [
       "(1, 101)"
      ]
     },
     "execution_count": 90,
     "metadata": {},
     "output_type": "execute_result"
    }
   ],
   "source": [
    "Ws.shape"
   ]
  },
  {
   "cell_type": "code",
   "execution_count": 86,
   "metadata": {},
   "outputs": [
    {
     "data": {
      "text/plain": [
       "array([0.05])"
      ]
     },
     "execution_count": 86,
     "metadata": {},
     "output_type": "execute_result"
    }
   ],
   "source": [
    "X_cir"
   ]
  },
  {
   "cell_type": "code",
   "execution_count": 77,
   "metadata": {
    "scrolled": true
   },
   "outputs": [
    {
     "data": {
      "text/plain": [
       "[<matplotlib.lines.Line2D at 0x20836a67588>]"
      ]
     },
     "execution_count": 77,
     "metadata": {},
     "output_type": "execute_result"
    },
    {
     "data": {
      "image/png": "[encoded data removed]",
      "text/plain": [
       "<Figure size 432x288 with 1 Axes>"
      ]
     },
     "metadata": {
      "needs_background": "light"
     },
     "output_type": "display_data"
    }
   ],
   "source": [
    "np.random.seed(0)\n",
    "t, W = brownian_path(1, 100)\n",
    "t_cir, X_cir = cir_dereich(1, 0.05, 0.05, 0.05, t, W)\n",
    "plt.plot(t_cir, X_cir)"
   ]
  },
  {
   "cell_type": "code",
   "execution_count": 19,
   "metadata": {},
   "outputs": [
    {
     "data": {
      "text/plain": [
       "[<matplotlib.lines.Line2D at 0x208369f8cf8>]"
      ]
     },
     "execution_count": 19,
     "metadata": {},
     "output_type": "execute_result"
    },
    {
     "data": {
      "image/png": "[encoded data removed]",
      "text/plain": [
       "<Figure size 432x288 with 1 Axes>"
      ]
     },
     "metadata": {
      "needs_background": "light"
     },
     "output_type": "display_data"
    }
   ],
   "source": [
    "np.random.seed(0)\n",
    "T = 1\n",
    "N = 100\n",
    "dt = T/N\n",
    "dW = np.sqrt(dt)*randn(N)\n",
    "dW = np.insert(dW, 0, 0)\n",
    "W = np.cumsum(dW)\n",
    "\n",
    "k = 1\n",
    "lamda = 0.05\n",
    "theta = 0.05#2*k*lamda * 0.01\n",
    "#assert 2*k*lamda > theta**2\n",
    "alpha = (4*k*lamda - theta**2)/8\n",
    "beta = -k/2\n",
    "gamma = theta/2\n",
    "\n",
    "Y_implicit = np.zeros(N+1)\n",
    "\n",
    "\n",
    "X_0 = lamda\n",
    "Y_temp = np.sqrt(X_0)\n",
    "Y_implicit[0] = np.sqrt(X_0)\n",
    "for k in range(1, N+1):\n",
    "    W_inc = dW[k]\n",
    "    Y_temp = (Y_temp + gamma*dW[k])/(2*(1-beta*dt)) \\\n",
    "             + np.sqrt(\n",
    "                 (Y_temp + gamma*dW[k])**2/(4*(1-beta*dt)**2) \\\n",
    "                 + (alpha*dt)/(1-beta*dt)\n",
    "             )\n",
    "    Y_implicit[k] = Y_temp\n",
    "X_implicit = Y_implicit**2\n",
    "plt.plot(t, X_implicit)"
   ]
  },
  {
   "cell_type": "code",
   "execution_count": 5,
   "metadata": {},
   "outputs": [],
   "source": [
    "T = 1\n",
    "max_N = 10\n",
    "N_range = 2**np.arange(5, max_N)\n",
    "\n",
    "t, Ws = brownian_paths(1, max_N, M)\n",
    "t_cir, X_cir = cir_dereich2(1, 0.05, 0.05, 0.05, t, Ws)\n",
    "\n",
    "dt = 1 / N_range\n",
    "M = 100\n",
    "for N in N_range:\n",
    "    t, W = brownian_path(1, 100, M)\n",
    "    t_cir, X_cir = cir_dereich(1, 0.05, 0.05, 0.05, t, W)"
   ]
  },
  {
   "cell_type": "code",
   "execution_count": 9,
   "metadata": {},
   "outputs": [],
   "source": [
    "\n"
   ]
  },
  {
   "cell_type": "code",
   "execution_count": null,
   "metadata": {},
   "outputs": [],
   "source": []
  }
 ],
 "metadata": {
  "kernelspec": {
   "display_name": "Python 3",
   "language": "python",
   "name": "python3"
  },
  "language_info": {
   "codemirror_mode": {
    "name": "ipython",
    "version": 3
   },
   "file_extension": ".py",
   "mimetype": "text/x-python",
   "name": "python",
   "nbconvert_exporter": "python",
   "pygments_lexer": "ipython3",
   "version": "3.7.0"
  }
 },
 "nbformat": 4,
 "nbformat_minor": 2
}
