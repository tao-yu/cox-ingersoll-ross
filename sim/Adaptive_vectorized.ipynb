{
 "cells": [
  {
   "cell_type": "code",
   "execution_count": 2,
   "metadata": {},
   "outputs": [
    {
     "name": "stderr",
     "output_type": "stream",
     "text": [
      "C:\\Anaconda\\lib\\site-packages\\statsmodels\\compat\\pandas.py:49: FutureWarning: The Panel class is removed from pandas. Accessing it from the top-level namespace will also be removed in the next version\n",
      "  data_klasses = (pandas.Series, pandas.DataFrame, pandas.Panel)\n"
     ]
    }
   ],
   "source": [
    "import numpy as np\n",
    "from numba import njit\n",
    "from IPython.core.debugger import set_trace\n",
    "import matplotlib.pyplot as plt\n",
    "from solvers import implicit_scheme, direct_simulation\n",
    "from utils import show_qqplot, brownian_paths"
   ]
  },
  {
   "cell_type": "markdown",
   "metadata": {},
   "source": [
    "- check if oversteps $T$\n",
    "    - Decrease step\n",
    "        - calculate $Y_{n+1}$ (explicit)\n",
    "            - $Y_{n+1} < 0$\n",
    "                - Apply implicit method\n",
    "- check if $h < h_{min}$\n",
    "    - set $h = h_{min}$\n",
    "    - Apply implicit method\n",
    "- calculate $Y_{n+1}$ (explicit)\n",
    "    - $Y_{n+1} < 0$\n",
    "        - Apply implicit method"
   ]
  },
  {
   "cell_type": "code",
   "execution_count": 18,
   "metadata": {},
   "outputs": [],
   "source": [
    "#@njit\n",
    "def adaptive_vectorized(k, lamda, theta, X_0, T, h_max, h_min, r, M):\n",
    "    alpha = (4*k*lamda - theta**2)/8\n",
    "    beta = -k/2\n",
    "    gamma = theta/2\n",
    "    \n",
    "    max_steps = int(T[-1]//h_min + 1)\n",
    "    t = np.zeros((max_steps, M))\n",
    "    Y = np.zeros((max_steps, M))\n",
    "    std_n = np.random.randn(max_steps, M)\n",
    "    \n",
    "    #backstop_usage = np.zeros((max_steps, M))\n",
    "    \n",
    "    Y[0] = np.sqrt(X_0)\n",
    "\n",
    "    #def backstop(Y_prev, dt, dW):\n",
    "    #    #dW = std_n[j-1, i] * np.sqrt(dt)\n",
    "    #    Y_next = np.zeros(Y_prev.shape)\n",
    "    #    d = (Y_prev + gamma*dW)**2/(4*(1-beta*dt)**2) \\\n",
    "    #                + (alpha*dt)/(1-beta*dt) # discriminant\n",
    "    #    Y_next[d > 0] = (Y_prev[d > 0] + gamma*dW[d > 0])/(2*(1-beta*dt[d > 0])) \\\n",
    "    #                 + np.sqrt(\n",
    "    #                     d[d > 0]\n",
    "    #                 )\n",
    "    #    return Y_next\n",
    "    #\n",
    "    #def explicit_step(Y_prev, dt, dW):\n",
    "    #    #dW = std_n[j-1, i] * np.sqrt(dt)\n",
    "    #    return Y_prev + dt*(alpha/Y_prev + beta*Y_prev) + gamma * dW\n",
    "    \n",
    "    next_T_index = np.zeros(M, dtype=np.int64)\n",
    "    for j in range(1, max_steps):\n",
    "        h = h_max * np.minimum(1, np.abs(Y[j-1])**r)\n",
    "        T_next = T[next_T_index]\n",
    "        \n",
    "        # Event that a path has gone beyond time T[-1]\n",
    "        past_T = t[j-1] >= T[-1] \n",
    "        \n",
    "        # Event that a smaller step must be taken to reach next_T\n",
    "        overshoot = (t[j-1] + h >= T_next) & ~past_T\n",
    "        \n",
    "        # Event that h < h_min\n",
    "        small = h < h_min \n",
    "        \n",
    "        # Event that implicit method should be applied directly\n",
    "        # (small) \\ (overshoot)\n",
    "        direct_imp = small & ~overshoot\n",
    "        \n",
    "        # Choose h_min as time step\n",
    "        dt = np.full(direct_imp.sum(), h_min)\n",
    "        dW = std_n[j-1, direct_imp] * np.sqrt(h_min)\n",
    "        Y[j,direct_imp] = backstop(Y[j-1,direct_imp], \n",
    "                                   dt, \n",
    "                                   dW)\n",
    "        \n",
    "        # Decrease step in event of overshoot\n",
    "        h[overshoot] = T_next[overshoot] - t[j-1, overshoot]\n",
    "        \n",
    "        # In all other cases we first apply explicit\n",
    "        # And recalculate using implicit if explicit produces \n",
    "        # negative answer\n",
    "        \n",
    "        # Previous Y where explicit should be applied\n",
    "        try_explicit = ~direct_imp\n",
    "        \n",
    "        Y_prev_exp = Y[j-1,try_explicit] \n",
    "        \n",
    "        # Step sizes\n",
    "        h_exp = h[try_explicit]\n",
    "        dW = std_n[j-1, try_explicit] * np.sqrt(h_exp)\n",
    "        \n",
    "        # Apply explicit, and apply implict to values that go negative\n",
    "        Y_next_exp = explicit_step(Y_prev_exp, h_exp, dW)\n",
    "        Y_next_exp[Y_next_exp<0] = backstop(Y_prev_exp[Y_next_exp<0], \n",
    "                                            h_exp[Y_next_exp<0], \n",
    "                                            dW[Y_next_exp<0])\n",
    "        Y[j,try_explicit] = Y_next_exp\n",
    "        \n",
    "        # Record current timestep for each path\n",
    "        t[j] = t[j-1] + h\n",
    "        \n",
    "        # If T_next exceeded, move to the next T_next\n",
    "        next_T_index = np.minimum(next_T_index + (t[j] >= T_next), \n",
    "                                  T.shape[0] - 1)\n",
    "        \n",
    "        # If all paths go beyond final time\n",
    "        if (t[j] >= T[-1]).all():\n",
    "            break\n",
    "    \n",
    "    X = Y**2\n",
    "    return t[:j+1], X[:j+1]"
   ]
  },
  {
   "cell_type": "code",
   "execution_count": 21,
   "metadata": {},
   "outputs": [
    {
     "name": "stdout",
     "output_type": "stream",
     "text": [
      "Wall time: 13 s\n"
     ]
    }
   ],
   "source": [
    "%%time\n",
    "#np.random.seed(0)\n",
    "k, lamda, theta, X_0, T, h_max, h_min, r, M = 1, 1, 1, 1, np.array([1]), 1/10000, 1/100000, 1, 1000\n",
    "t, X = adaptive_vectorized(k, lamda, theta, X_0, T, h_max, h_min, r, M)"
   ]
  },
  {
   "cell_type": "code",
   "execution_count": 11,
   "metadata": {},
   "outputs": [
    {
     "data": {
      "text/plain": [
       "array([], dtype=float64)"
      ]
     },
     "execution_count": 11,
     "metadata": {},
     "output_type": "execute_result"
    }
   ],
   "source": [
    "np.random.normal(0, 1, 0)"
   ]
  },
  {
   "cell_type": "code",
   "execution_count": 7,
   "metadata": {},
   "outputs": [
    {
     "data": {
      "text/plain": [
       "(0, 1)"
      ]
     },
     "execution_count": 7,
     "metadata": {},
     "output_type": "execute_result"
    },
    {
     "data": {
      "image/png": "[encoded data removed]",
      "text/plain": [
       "<Figure size 432x288 with 1 Axes>"
      ]
     },
     "metadata": {
      "needs_background": "light"
     },
     "output_type": "display_data"
    }
   ],
   "source": [
    "plt.plot(t[1:,1], np.diff(t[:,1]))\n",
    "plt.xlim(0, 1)"
   ]
  },
  {
   "cell_type": "code",
   "execution_count": 70,
   "metadata": {},
   "outputs": [],
   "source": [
    "@njit\n",
    "def test():\n",
    "    alpha, beta, gamma, Y_prev, dt, dW = 1,1,1,np.ones(2), np.array([0.01,0.01]), np.array([0.01,0.01])\n",
    "    def backstop(alpha, beta, gamma, Y_prev, dt, dW):\n",
    "        #dW = std_n[j-1, i] * np.sqrt(dt)\n",
    "        Y_next = np.zeros(Y_prev.shape)\n",
    "        #set_trace()\n",
    "        d = (Y_prev + gamma*dW)**2/(4*(1-beta*dt)**2) + (alpha*dt)/(1-beta*dt) # discriminant\n",
    "        Y_next[d > 0] = (Y_prev[d > 0] + gamma*dW[d > 0])/(2*(1-beta*dt[d > 0])) \\\n",
    "                     + np.sqrt(\n",
    "                         d[d > 0]\n",
    "                     )\n",
    "        return Y_next\n",
    "    print(backstop(alpha, beta, gamma, Y_prev, dt, dW))"
   ]
  },
  {
   "cell_type": "code",
   "execution_count": 188,
   "metadata": {},
   "outputs": [],
   "source": [
    "@njit\n",
    "def test():\n",
    "    a = np.array([1,1])\n",
    "    #def f(b):\n",
    "    #    d = b/b\n",
    "    #    return d\n",
    "    print(a/a)"
   ]
  },
  {
   "cell_type": "code",
   "execution_count": 189,
   "metadata": {},
   "outputs": [
    {
     "name": "stdout",
     "output_type": "stream",
     "text": [
      "[1. 1.]\n"
     ]
    }
   ],
   "source": [
    "test()"
   ]
  },
  {
   "cell_type": "markdown",
   "metadata": {},
   "source": [
    "Choosing step size\n",
    "\n",
    "\\< final time, no overshoot, h > h_min  \n",
    "\\< final time, overshoot, h > h_min  \n",
    "\\> final time, h > h_min  \n"
   ]
  },
  {
   "cell_type": "code",
   "execution_count": null,
   "metadata": {},
   "outputs": [],
   "source": [
    "i = 10\n",
    "show_qqplot(k, lamda, theta, X_0, T[i], X[t == T[i]])"
   ]
  },
  {
   "cell_type": "code",
   "execution_count": 75,
   "metadata": {},
   "outputs": [
    {
     "data": {
      "text/plain": [
       "array([[1.09912079e-14, 1.09912079e-14],\n",
       "       [1.09912079e-14, 1.09912079e-14],\n",
       "       [1.09912079e-14, 1.09912079e-14]])"
      ]
     },
     "execution_count": 75,
     "metadata": {},
     "output_type": "execute_result"
    }
   ],
   "source": [
    "np.empty((3,2))"
   ]
  },
  {
   "cell_type": "markdown",
   "metadata": {},
   "source": [
    "Apply implicit if:  \n",
    "  \n",
    "\\< final time, no overshoot, h < h_min  \n",
    "or  \n",
    "\\>= final time, h < h_min  "
   ]
  },
  {
   "cell_type": "code",
   "execution_count": 5,
   "metadata": {},
   "outputs": [],
   "source": [
    "@njit\n",
    "def _implicit_step(alpha, beta, gamma, Y_prev, dt, dW):\n",
    "    Y_next = np.zeros(Y_prev.shape)\n",
    "\n",
    "    d = (Y_prev + gamma*dW)**2/(4*(1-beta*dt)**2) + (alpha*dt)/(1-beta*dt) # discriminant\n",
    "    Y_next[d > 0] = (Y_prev[d > 0] + gamma*dW[d > 0])/(2*(1-beta*dt[d > 0])) \\\n",
    "                 + np.sqrt(\n",
    "                     d[d > 0]\n",
    "                 )\n",
    "    return Y_next\n",
    "    \n",
    "@njit\n",
    "def _explicit_step(alpha, beta, gamma, Y_prev, dt, dW):\n",
    "    return Y_prev + dt*(alpha/Y_prev + beta*Y_prev) + gamma * dW    "
   ]
  },
  {
   "cell_type": "code",
   "execution_count": 52,
   "metadata": {},
   "outputs": [
    {
     "name": "stdout",
     "output_type": "stream",
     "text": [
      "912 ns ± 19.2 ns per loop (mean ± std. dev. of 7 runs, 1000000 loops each)\n"
     ]
    }
   ],
   "source": [
    "%timeit np.zeros(1000)"
   ]
  },
  {
   "cell_type": "code",
   "execution_count": 106,
   "metadata": {},
   "outputs": [],
   "source": [
    "@njit\n",
    "def adaptive_vectorized_jit(k, lamda, theta, X_0, T, h_max, h_min, r, M):\n",
    "    alpha = (4*k*lamda - theta**2)/8\n",
    "    beta = -k/2\n",
    "    gamma = theta/2\n",
    "    \n",
    "    max_steps = int(T[-1]//h_min + 1)\n",
    "    t = np.zeros((max_steps, M))\n",
    "    Y = np.zeros((max_steps, M))\n",
    "    std_n = np.random.randn(max_steps, M)\n",
    "    \n",
    "    #backstop_usage = np.zeros((max_steps, M))\n",
    "    \n",
    "    Y[0] = np.sqrt(X_0)\n",
    "\n",
    "    #def backstop(alpha, beta, gamma, Y_prev, dt, dW):\n",
    "    #    #dW = std_n[j-1, i] * np.sqrt(dt)\n",
    "    #    Y_next = np.zeros(Y_prev.shape)\n",
    "    #    #set_trace()\n",
    "    #    d = (Y_prev + gamma*dW)**2/(4*(1-beta*dt)**2) + (alpha*dt)/(1-beta*dt) # discriminant\n",
    "    #    Y_next[d > 0] = (Y_prev[d > 0] + gamma*dW[d > 0])/(2*(1-beta*dt[d > 0])) \\\n",
    "    #                 + np.sqrt(\n",
    "    #                     d[d > 0]\n",
    "    #                 )\n",
    "    #    return Y_next\n",
    "    #\n",
    "    #def explicit_step(alpha, beta, gamma, Y_prev, dt, dW):\n",
    "    #    #dW = std_n[j-1, i] * np.sqrt(dt)\n",
    "    #    return Y_prev + dt*(alpha/Y_prev + beta*Y_prev) + gamma * dW\n",
    "    \n",
    "    next_T_index = np.zeros(M, dtype=np.int64)\n",
    "    finished_paths = 0\n",
    "    for j in range(1, max_steps):\n",
    "        \n",
    "        t_last = t[j-1]\n",
    "\n",
    "        active = (t_last < T[-1])\n",
    "        if not active.any():\n",
    "            break\n",
    "\n",
    "        Y_next = np.zeros(M)\n",
    "        \n",
    "        Y_last = Y[j-1]\n",
    "        \n",
    "        T_next = T[next_T_index]\n",
    "        std_n_next = std_n[j-1]\n",
    "        \n",
    "        h = h_max * np.minimum(1, np.abs(Y_last)**r)\n",
    "\n",
    "        # Event that a smaller step must be taken to reach next_T\n",
    "        overshoot = (t_last + h > T_next) & active\n",
    "        \n",
    "        # Event that h < h_min\n",
    "        small = (h < h_min) & active\n",
    "        \n",
    "        # Event that implicit method should be applied directly\n",
    "        # (small) \\ (overshoot)\n",
    "        direct_imp = small & ~overshoot\n",
    "        #if direct_imp.any():\n",
    "            # Choose h_min as time step\n",
    "        dW = std_n_next[direct_imp] * np.sqrt(h_min)\n",
    "        dt = np.full(len(dW), h_min)\n",
    "        \n",
    "        Y_next[direct_imp] = _implicit_step(alpha, beta, gamma, Y_last[direct_imp], \n",
    "                                        dt, \n",
    "                                        dW)\n",
    "\n",
    "        h[direct_imp] = h_min\n",
    "        \n",
    "        # Decrease step in event of overshoot\n",
    "        h[overshoot] = T_next[overshoot] - t_last[overshoot]\n",
    "        \n",
    "        # In all other cases we first apply explicit\n",
    "        # And recalculate using implicit if explicit produces \n",
    "        # negative answer\n",
    "        \n",
    "        # Previous Y where explicit should be applied\n",
    "        try_explicit = ~direct_imp & active\n",
    "        \n",
    "        #Y_prev_exp = Y[try_explicit] \n",
    "        \n",
    "        # Step sizes\n",
    "        #if try_explicit.any():\n",
    "        h_exp = h[try_explicit]\n",
    "        dW = std_n_next[try_explicit] * np.sqrt(h_exp)\n",
    "\n",
    "        # Apply explicit, and apply implict to values that go negative\n",
    "        Y_next[try_explicit]  = _explicit_step(alpha, beta, gamma, Y_last[try_explicit], \n",
    "                                              h_exp, \n",
    "                                              dW)\n",
    "        neg_fix = Y_next<0\n",
    "            #if neg_fix.any():\n",
    "        h_neg_fix = h[neg_fix]\n",
    "        dW_neg_fix = std_n_next[neg_fix] * np.sqrt(h_neg_fix)\n",
    "        Y_next[neg_fix] = _implicit_step(alpha, beta, gamma, Y_last[neg_fix],   \n",
    "                                   h_neg_fix,    \n",
    "                                   dW_neg_fix)\n",
    "        Y[j] = Y_next\n",
    "        #Y[j,try_explicit] = Y_next_exp\n",
    "        \n",
    "        # Record current timestep for each path\n",
    "        #t_next = t_last + h\n",
    "        #t_next[~active] = -1\n",
    "        t[j] = t_last + h\n",
    "        #t[j][~active] = -1\n",
    "        # If T_next exceeded, move to the next T_next\n",
    "        next_T_index = np.minimum(next_T_index + (t[j] >= T_next), \n",
    "                                  T.shape[0] - 1)\n",
    "        #finished_paths += (t[j] >= T[-1]).sum()\n",
    "        #if finished_paths == M:\n",
    "        #    break\n",
    "    X = Y**2 \n",
    "    #X[t==T[-1]] = -1\n",
    "    return t[:j], X[:j]"
   ]
  },
  {
   "cell_type": "code",
   "execution_count": 107,
   "metadata": {},
   "outputs": [
    {
     "name": "stdout",
     "output_type": "stream",
     "text": [
      "Wall time: 8.04 s\n"
     ]
    }
   ],
   "source": [
    "%%time\n",
    "np.random.seed(0)\n",
    "k, lamda, theta, X_0, T, h_max, h_min, r, M = 1, 1, 1, 1, np.array([1]), 1/10000, 1/100000, 1, 1000\n",
    "t, X = adaptive_vectorized_jit(k, lamda, theta, X_0, T, h_max, h_min, r, M)"
   ]
  },
  {
   "cell_type": "code",
   "execution_count": 100,
   "metadata": {},
   "outputs": [
    {
     "data": {
      "text/plain": [
       "[<matplotlib.lines.Line2D at 0x1963cf306a0>]"
      ]
     },
     "execution_count": 100,
     "metadata": {},
     "output_type": "execute_result"
    },
    {
     "data": {
      "image/png": "[encoded data removed]",
      "text/plain": [
       "<Figure size 432x288 with 1 Axes>"
      ]
     },
     "metadata": {
      "needs_background": "light"
     },
     "output_type": "display_data"
    }
   ],
   "source": [
    "tt, XX = t[:,0], X[:,0]\n",
    "plt.plot(XX)\n",
    "plt.plot(tt)"
   ]
  },
  {
   "cell_type": "code",
   "execution_count": 41,
   "metadata": {},
   "outputs": [
    {
     "data": {
      "text/plain": [
       "0.0"
      ]
     },
     "execution_count": 41,
     "metadata": {},
     "output_type": "execute_result"
    }
   ],
   "source": [
    "XX[15238]"
   ]
  },
  {
   "cell_type": "code",
   "execution_count": 39,
   "metadata": {},
   "outputs": [
    {
     "data": {
      "text/plain": [
       "(array([15237], dtype=int64),)"
      ]
     },
     "execution_count": 39,
     "metadata": {},
     "output_type": "execute_result"
    }
   ],
   "source": [
    "np.where(tt==1)"
   ]
  },
  {
   "cell_type": "code",
   "execution_count": null,
   "metadata": {},
   "outputs": [],
   "source": []
  }
 ],
 "metadata": {
  "kernelspec": {
   "display_name": "Python 3",
   "language": "python",
   "name": "python3"
  },
  "language_info": {
   "codemirror_mode": {
    "name": "ipython",
    "version": 3
   },
   "file_extension": ".py",
   "mimetype": "text/x-python",
   "name": "python",
   "nbconvert_exporter": "python",
   "pygments_lexer": "ipython3",
   "version": "3.7.0"
  }
 },
 "nbformat": 4,
 "nbformat_minor": 2
}
